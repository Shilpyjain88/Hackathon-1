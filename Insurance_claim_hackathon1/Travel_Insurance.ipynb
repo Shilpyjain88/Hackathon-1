{
 "cells": [
  {
   "cell_type": "markdown",
   "metadata": {},
   "source": [
    "# Business Objective :\n",
    "Based on the previous records of the customers of an insurance company SafeTravels Pvt Ltd, \n",
    "predicted that the applied Insurance claim to be Valid or Invalid"
   ]
  },
  {
   "cell_type": "markdown",
   "metadata": {},
   "source": [
    "# Transformation into Data Science Problem:\n",
    "#we have  to predict claim values as :\n",
    "    #0-invalid\n",
    "    #1-valid"
   ]
  },
  {
   "cell_type": "code",
   "execution_count": 0,
   "metadata": {
    "colab": {
     "base_uri": "https://localhost:8080/",
     "height": 74,
     "resources": {
      "http://localhost:8080/nbextensions/google.colab/files.js": {
       "data": "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",
       "headers": [
        [
         "content-type",
         "application/javascript"
        ]
       ],
       "ok": true,
       "status": 200,
       "status_text": ""
      }
     }
    },
    "colab_type": "code",
    "executionInfo": {
     "elapsed": 123407,
     "status": "ok",
     "timestamp": 1574437546845,
     "user": {
      "displayName": "Nida Jawre",
      "photoUrl": "",
      "userId": "04154925072722594964"
     },
     "user_tz": -330
    },
    "id": "zSaxYgJuSquu",
    "outputId": "b22ddca8-bc2a-4785-ccab-eddfcb55e213"
   },
   "outputs": [
    {
     "data": {
      "text/html": [
       "\n",
       "     <input type=\"file\" id=\"files-e60feb7f-1a11-44f0-8ef9-e55f587ff6b1\" name=\"files[]\" multiple disabled />\n",
       "     <output id=\"result-e60feb7f-1a11-44f0-8ef9-e55f587ff6b1\">\n",
       "      Upload widget is only available when the cell has been executed in the\n",
       "      current browser session. Please rerun this cell to enable.\n",
       "      </output>\n",
       "      <script src=\"/nbextensions/google.colab/files.js\"></script> "
      ],
      "text/plain": [
       "<IPython.core.display.HTML object>"
      ]
     },
     "metadata": {
      "tags": []
     },
     "output_type": "display_data"
    },
    {
     "name": "stdout",
     "output_type": "stream",
     "text": [
      "Saving Train_file.csv to Train_file.csv\n"
     ]
    }
   ],
   "source": [
    "import io\n",
    "from google.colab import files\n",
    "uploaded = files.upload()"
   ]
  },
  {
   "cell_type": "code",
   "execution_count": 0,
   "metadata": {
    "colab": {},
    "colab_type": "code",
    "id": "RbvVKqFbS24G"
   },
   "outputs": [],
   "source": [
    "import pandas as pd\n",
    "import numpy as np\n",
    "import matplotlib.pyplot as plt\n",
    "import seaborn as sns"
   ]
  },
  {
   "cell_type": "code",
   "execution_count": 0,
   "metadata": {
    "colab": {},
    "colab_type": "code",
    "id": "0nSiP4ZbhNH_"
   },
   "outputs": [],
   "source": [
    "from sklearn.linear_model import LogisticRegression\n",
    "from sklearn.svm import SVC, LinearSVC\n",
    "from sklearn.ensemble import RandomForestClassifier\n",
    "from sklearn.neighbors import KNeighborsClassifier\n",
    "from sklearn.naive_bayes import GaussianNB\n",
    "from sklearn.linear_model import Perceptron\n",
    "from sklearn.linear_model import SGDClassifier\n",
    "from sklearn.tree import DecisionTreeClassifier"
   ]
  },
  {
   "cell_type": "code",
   "execution_count": 0,
   "metadata": {
    "colab": {},
    "colab_type": "code",
    "id": "7FUdxGiqhRi-"
   },
   "outputs": [],
   "source": [
    "from sklearn.model_selection import train_test_split, GridSearchCV\n",
    "from sklearn.linear_model import LogisticRegression\n",
    "from sklearn.feature_selection import RFE\n",
    "from sklearn.metrics import classification_report, accuracy_score,confusion_matrix,precision_score,f1_score,recall_score\n",
    "from sklearn.ensemble import RandomForestClassifier, AdaBoostClassifier\n",
    "from sklearn import preprocessing\n",
    "from sklearn import tree\n",
    "from xgboost import XGBClassifier\n",
    "from sklearn.neighbors import KNeighborsClassifier"
   ]
  },
  {
   "cell_type": "code",
   "execution_count": 0,
   "metadata": {
    "colab": {},
    "colab_type": "code",
    "id": "pSPjGC2iT3bY"
   },
   "outputs": [],
   "source": [
    "ins_data = pd.read_csv('Train_file.csv')"
   ]
  },
  {
   "cell_type": "code",
   "execution_count": 0,
   "metadata": {
    "colab": {},
    "colab_type": "code",
    "id": "lTdGOWzM6GkE"
   },
   "outputs": [],
   "source": [
    "test_data = pd.read_csv('Test_file.csv')"
   ]
  },
  {
   "cell_type": "code",
   "execution_count": 0,
   "metadata": {
    "colab": {},
    "colab_type": "code",
    "id": "wkWdyMm46HFI"
   },
   "outputs": [],
   "source": [
    "sample_data = pd.read_csv('sample_submission.csv')"
   ]
  },
  {
   "cell_type": "code",
   "execution_count": 0,
   "metadata": {
    "colab": {},
    "colab_type": "code",
    "id": "vBMMy5b_UBsF"
   },
   "outputs": [],
   "source": [
    "ins_data2 = ins_data.copy()"
   ]
  },
  {
   "cell_type": "code",
   "execution_count": 0,
   "metadata": {
    "colab": {},
    "colab_type": "code",
    "id": "eUFkv93gWE-K"
   },
   "outputs": [],
   "source": [
    "#test_data.drop_duplicates(keep='first',inplace=True)"
   ]
  },
  {
   "cell_type": "code",
   "execution_count": 12,
   "metadata": {
    "colab": {
     "base_uri": "https://localhost:8080/",
     "height": 302
    },
    "colab_type": "code",
    "executionInfo": {
     "elapsed": 932,
     "status": "ok",
     "timestamp": 1574480438825,
     "user": {
      "displayName": "Nida Jawre",
      "photoUrl": "",
      "userId": "04154925072722594964"
     },
     "user_tz": -330
    },
    "id": "QbxBJMrWUIA1",
    "outputId": "7359bb01-eb64-489f-aac4-765f4a3bf5f6"
   },
   "outputs": [
    {
     "name": "stdout",
     "output_type": "stream",
     "text": [
      "<class 'pandas.core.frame.DataFrame'>\n",
      "Int64Index: 50756 entries, 0 to 62287\n",
      "Data columns (total 12 columns):\n",
      "ID                      50756 non-null int64\n",
      "Age                     50756 non-null int64\n",
      "Agency                  50756 non-null object\n",
      "Agency Type             50756 non-null object\n",
      "Commision (in value)    50756 non-null float64\n",
      "Destination             50756 non-null object\n",
      "Distribution Channel    50756 non-null object\n",
      "Duration                50756 non-null int64\n",
      "Gender                  14722 non-null object\n",
      "Net Sales               50756 non-null float64\n",
      "Product Name            50756 non-null object\n",
      "Claim                   50756 non-null int64\n",
      "dtypes: float64(2), int64(4), object(6)\n",
      "memory usage: 5.0+ MB\n"
     ]
    }
   ],
   "source": [
    "ins_data2.info()"
   ]
  },
  {
   "cell_type": "code",
   "execution_count": 0,
   "metadata": {
    "colab": {},
    "colab_type": "code",
    "id": "zd_eIgSzUK7V"
   },
   "outputs": [],
   "source": [
    "ins_data2.drop(columns=['ID','Gender'],inplace=True)"
   ]
  },
  {
   "cell_type": "code",
   "execution_count": 0,
   "metadata": {
    "colab": {},
    "colab_type": "code",
    "id": "HfiZ-5zQ6fie"
   },
   "outputs": [],
   "source": [
    "test_data.drop(columns=['ID','Gender'],inplace=True)"
   ]
  },
  {
   "cell_type": "code",
   "execution_count": 103,
   "metadata": {
    "colab": {
     "base_uri": "https://localhost:8080/",
     "height": 269
    },
    "colab_type": "code",
    "executionInfo": {
     "elapsed": 1006,
     "status": "ok",
     "timestamp": 1574485379288,
     "user": {
      "displayName": "Nida Jawre",
      "photoUrl": "",
      "userId": "04154925072722594964"
     },
     "user_tz": -330
    },
    "id": "7i2PjreEUVpV",
    "outputId": "34b52031-b4ce-4606-a329-a809ef273f0c"
   },
   "outputs": [
    {
     "name": "stdout",
     "output_type": "stream",
     "text": [
      "<class 'pandas.core.frame.DataFrame'>\n",
      "RangeIndex: 62288 entries, 0 to 62287\n",
      "Data columns (total 10 columns):\n",
      "Age                     62288 non-null int64\n",
      "Agency                  62288 non-null object\n",
      "Agency Type             62288 non-null object\n",
      "Commision (in value)    62288 non-null float64\n",
      "Destination             62288 non-null object\n",
      "Distribution Channel    62288 non-null object\n",
      "Duration                62288 non-null int64\n",
      "Net Sales               62288 non-null float64\n",
      "Product Name            62288 non-null object\n",
      "Claim                   62288 non-null int64\n",
      "dtypes: float64(2), int64(3), object(5)\n",
      "memory usage: 4.8+ MB\n"
     ]
    }
   ],
   "source": [
    "ins_data2.info()"
   ]
  },
  {
   "cell_type": "code",
   "execution_count": 0,
   "metadata": {
    "colab": {
     "base_uri": "https://localhost:8080/",
     "height": 166
    },
    "colab_type": "code",
    "executionInfo": {
     "elapsed": 3457,
     "status": "ok",
     "timestamp": 1574437676347,
     "user": {
      "displayName": "Nida Jawre",
      "photoUrl": "",
      "userId": "04154925072722594964"
     },
     "user_tz": -330
    },
    "id": "FhubMfJBUW-l",
    "outputId": "ec003b18-4c5d-4fef-b429-9272377c6236"
   },
   "outputs": [
    {
     "data": {
      "text/html": [
       "<div>\n",
       "<style scoped>\n",
       "    .dataframe tbody tr th:only-of-type {\n",
       "        vertical-align: middle;\n",
       "    }\n",
       "\n",
       "    .dataframe tbody tr th {\n",
       "        vertical-align: top;\n",
       "    }\n",
       "\n",
       "    .dataframe thead th {\n",
       "        text-align: right;\n",
       "    }\n",
       "</style>\n",
       "<table border=\"1\" class=\"dataframe\">\n",
       "  <thead>\n",
       "    <tr style=\"text-align: right;\">\n",
       "      <th></th>\n",
       "      <th>AgeBand</th>\n",
       "      <th>Claim</th>\n",
       "    </tr>\n",
       "  </thead>\n",
       "  <tbody>\n",
       "    <tr>\n",
       "      <th>0</th>\n",
       "      <td>(-0.118, 29.5]</td>\n",
       "      <td>0.318444</td>\n",
       "    </tr>\n",
       "    <tr>\n",
       "      <th>1</th>\n",
       "      <td>(29.5, 59.0]</td>\n",
       "      <td>0.177251</td>\n",
       "    </tr>\n",
       "    <tr>\n",
       "      <th>2</th>\n",
       "      <td>(59.0, 88.5]</td>\n",
       "      <td>0.232082</td>\n",
       "    </tr>\n",
       "    <tr>\n",
       "      <th>3</th>\n",
       "      <td>(88.5, 118.0]</td>\n",
       "      <td>0.143965</td>\n",
       "    </tr>\n",
       "  </tbody>\n",
       "</table>\n",
       "</div>"
      ],
      "text/plain": [
       "          AgeBand     Claim\n",
       "0  (-0.118, 29.5]  0.318444\n",
       "1    (29.5, 59.0]  0.177251\n",
       "2    (59.0, 88.5]  0.232082\n",
       "3   (88.5, 118.0]  0.143965"
      ]
     },
     "execution_count": 11,
     "metadata": {
      "tags": []
     },
     "output_type": "execute_result"
    }
   ],
   "source": [
    "ins_data2['AgeBand'] = pd.cut(ins_data2['Age'], 4)\n",
    "ins_data2[['AgeBand', 'Claim']].groupby(['AgeBand'], as_index=False).mean().sort_values(by='AgeBand', ascending=True)"
   ]
  },
  {
   "cell_type": "code",
   "execution_count": 16,
   "metadata": {
    "colab": {
     "base_uri": "https://localhost:8080/",
     "height": 262
    },
    "colab_type": "code",
    "executionInfo": {
     "elapsed": 2049,
     "status": "ok",
     "timestamp": 1574480460664,
     "user": {
      "displayName": "Nida Jawre",
      "photoUrl": "",
      "userId": "04154925072722594964"
     },
     "user_tz": -330
    },
    "id": "sSNJQ1CmWIlH",
    "outputId": "0647cea7-0643-4914-8445-57eda9ebb93b"
   },
   "outputs": [
    {
     "data": {
      "text/html": [
       "<div>\n",
       "<style scoped>\n",
       "    .dataframe tbody tr th:only-of-type {\n",
       "        vertical-align: middle;\n",
       "    }\n",
       "\n",
       "    .dataframe tbody tr th {\n",
       "        vertical-align: top;\n",
       "    }\n",
       "\n",
       "    .dataframe thead th {\n",
       "        text-align: right;\n",
       "    }\n",
       "</style>\n",
       "<table border=\"1\" class=\"dataframe\">\n",
       "  <thead>\n",
       "    <tr style=\"text-align: right;\">\n",
       "      <th></th>\n",
       "      <th>Age</th>\n",
       "      <th>Agency</th>\n",
       "      <th>Agency Type</th>\n",
       "      <th>Commision (in value)</th>\n",
       "      <th>Destination</th>\n",
       "      <th>Distribution Channel</th>\n",
       "      <th>Duration</th>\n",
       "      <th>Net Sales</th>\n",
       "      <th>Product Name</th>\n",
       "      <th>Claim</th>\n",
       "    </tr>\n",
       "  </thead>\n",
       "  <tbody>\n",
       "    <tr>\n",
       "      <th>0</th>\n",
       "      <td>28</td>\n",
       "      <td>C2B</td>\n",
       "      <td>Airlines</td>\n",
       "      <td>28.13</td>\n",
       "      <td>SINGAPORE</td>\n",
       "      <td>Online</td>\n",
       "      <td>34</td>\n",
       "      <td>112.5</td>\n",
       "      <td>Silver Plan</td>\n",
       "      <td>1</td>\n",
       "    </tr>\n",
       "    <tr>\n",
       "      <th>1</th>\n",
       "      <td>37</td>\n",
       "      <td>JZI</td>\n",
       "      <td>Airlines</td>\n",
       "      <td>12.95</td>\n",
       "      <td>PHILIPPINES</td>\n",
       "      <td>Online</td>\n",
       "      <td>53</td>\n",
       "      <td>37.0</td>\n",
       "      <td>Basic Plan</td>\n",
       "      <td>0</td>\n",
       "    </tr>\n",
       "    <tr>\n",
       "      <th>2</th>\n",
       "      <td>27</td>\n",
       "      <td>EPX</td>\n",
       "      <td>Travel Agency</td>\n",
       "      <td>0.00</td>\n",
       "      <td>UNITED STATES</td>\n",
       "      <td>Online</td>\n",
       "      <td>28</td>\n",
       "      <td>13.0</td>\n",
       "      <td>Cancellation Plan</td>\n",
       "      <td>0</td>\n",
       "    </tr>\n",
       "    <tr>\n",
       "      <th>3</th>\n",
       "      <td>36</td>\n",
       "      <td>EPX</td>\n",
       "      <td>Travel Agency</td>\n",
       "      <td>0.00</td>\n",
       "      <td>SAUDI ARABIA</td>\n",
       "      <td>Online</td>\n",
       "      <td>1</td>\n",
       "      <td>34.0</td>\n",
       "      <td>Cancellation Plan</td>\n",
       "      <td>0</td>\n",
       "    </tr>\n",
       "    <tr>\n",
       "      <th>4</th>\n",
       "      <td>26</td>\n",
       "      <td>CWT</td>\n",
       "      <td>Travel Agency</td>\n",
       "      <td>23.76</td>\n",
       "      <td>THAILAND</td>\n",
       "      <td>Online</td>\n",
       "      <td>33</td>\n",
       "      <td>39.6</td>\n",
       "      <td>Rental Vehicle Excess Insurance</td>\n",
       "      <td>0</td>\n",
       "    </tr>\n",
       "  </tbody>\n",
       "</table>\n",
       "</div>"
      ],
      "text/plain": [
       "   Age Agency    Agency Type  ...  Net Sales                     Product Name Claim\n",
       "0   28    C2B       Airlines  ...      112.5                      Silver Plan     1\n",
       "1   37    JZI       Airlines  ...       37.0                       Basic Plan     0\n",
       "2   27    EPX  Travel Agency  ...       13.0                Cancellation Plan     0\n",
       "3   36    EPX  Travel Agency  ...       34.0                Cancellation Plan     0\n",
       "4   26    CWT  Travel Agency  ...       39.6  Rental Vehicle Excess Insurance     0\n",
       "\n",
       "[5 rows x 10 columns]"
      ]
     },
     "execution_count": 16,
     "metadata": {
      "tags": []
     },
     "output_type": "execute_result"
    }
   ],
   "source": [
    "ins_data2.head()"
   ]
  },
  {
   "cell_type": "code",
   "execution_count": 0,
   "metadata": {
    "colab": {},
    "colab_type": "code",
    "id": "L0hb6PnxV8ao"
   },
   "outputs": [],
   "source": [
    "for i in range(0,len(ins_data2['Age'])):    \n",
    "    if ins_data2['Age'][i]<=29:\n",
    "      ins_data2['Age'][i]=0.318444\n",
    "    elif ((ins_data2['Age'][i] > 29) & (ins_data2['Age'][i] <= 59)):\n",
    "      ins_data2['Age'][i]=0.177251\n",
    "    elif ((ins_data2['Age'][i] > 59) & (ins_data2['Age'][i] <= 88)):\n",
    "      ins_data2['Age'][i]=0.232082\n",
    "    elif (ins_data2['Age'][i] > 88) :\n",
    "      ins_data2['Age'][i]=0.143965\n",
    "    \n"
   ]
  },
  {
   "cell_type": "code",
   "execution_count": 0,
   "metadata": {
    "colab": {
     "base_uri": "https://localhost:8080/",
     "height": 373
    },
    "colab_type": "code",
    "executionInfo": {
     "elapsed": 2888,
     "status": "ok",
     "timestamp": 1574446683091,
     "user": {
      "displayName": "Nida Jawre",
      "photoUrl": "",
      "userId": "04154925072722594964"
     },
     "user_tz": -330
    },
    "id": "AYgHSwxF6ulu",
    "outputId": "d7c55053-6e4c-41f7-aa2f-6637acb558a0"
   },
   "outputs": [
    {
     "name": "stderr",
     "output_type": "stream",
     "text": [
      "/usr/local/lib/python3.6/dist-packages/ipykernel_launcher.py:5: SettingWithCopyWarning: \n",
      "A value is trying to be set on a copy of a slice from a DataFrame\n",
      "\n",
      "See the caveats in the documentation: http://pandas.pydata.org/pandas-docs/stable/user_guide/indexing.html#returning-a-view-versus-a-copy\n",
      "  \"\"\"\n",
      "/usr/local/lib/python3.6/dist-packages/ipykernel_launcher.py:7: SettingWithCopyWarning: \n",
      "A value is trying to be set on a copy of a slice from a DataFrame\n",
      "\n",
      "See the caveats in the documentation: http://pandas.pydata.org/pandas-docs/stable/user_guide/indexing.html#returning-a-view-versus-a-copy\n",
      "  import sys\n",
      "/usr/local/lib/python3.6/dist-packages/ipykernel_launcher.py:3: SettingWithCopyWarning: \n",
      "A value is trying to be set on a copy of a slice from a DataFrame\n",
      "\n",
      "See the caveats in the documentation: http://pandas.pydata.org/pandas-docs/stable/user_guide/indexing.html#returning-a-view-versus-a-copy\n",
      "  This is separate from the ipykernel package so we can avoid doing imports until\n",
      "/usr/local/lib/python3.6/dist-packages/ipykernel_launcher.py:9: SettingWithCopyWarning: \n",
      "A value is trying to be set on a copy of a slice from a DataFrame\n",
      "\n",
      "See the caveats in the documentation: http://pandas.pydata.org/pandas-docs/stable/user_guide/indexing.html#returning-a-view-versus-a-copy\n",
      "  if __name__ == '__main__':\n"
     ]
    }
   ],
   "source": [
    "for i in range(0,len(test_data['Age'])):    \n",
    "    if test_data['Age'][i]<=29:\n",
    "      test_data['Age'][i]=0.318444\n",
    "    elif ((test_data['Age'][i] > 29) & (test_data['Age'][i] <= 59)):\n",
    "      test_data['Age'][i]=0.177251\n",
    "    elif ((test_data['Age'][i] > 59) & (test_data['Age'][i] <= 88)):\n",
    "      test_data['Age'][i]=0.232082\n",
    "    elif (test_data['Age'][i] > 88) :\n",
    "      test_data['Age'][i]=0.143965"
   ]
  },
  {
   "cell_type": "code",
   "execution_count": 17,
   "metadata": {
    "colab": {
     "base_uri": "https://localhost:8080/",
     "height": 282
    },
    "colab_type": "code",
    "executionInfo": {
     "elapsed": 1119,
     "status": "ok",
     "timestamp": 1574480477240,
     "user": {
      "displayName": "Nida Jawre",
      "photoUrl": "",
      "userId": "04154925072722594964"
     },
     "user_tz": -330
    },
    "id": "UQPVfMPPWsnl",
    "outputId": "b7fe3864-1170-4f7b-c1c8-1809f7cfd239"
   },
   "outputs": [
    {
     "data": {
      "text/plain": [
       "<matplotlib.axes._subplots.AxesSubplot at 0x7f0d70393940>"
      ]
     },
     "execution_count": 17,
     "metadata": {
      "tags": []
     },
     "output_type": "execute_result"
    },
    {
     "data": {
      "image/png": "[encoded data removed]",
      "text/plain": [
       "<Figure size 432x288 with 1 Axes>"
      ]
     },
     "metadata": {
      "tags": []
     },
     "output_type": "display_data"
    }
   ],
   "source": [
    "ins_data2['Age'].hist()"
   ]
  },
  {
   "cell_type": "code",
   "execution_count": 18,
   "metadata": {
    "colab": {
     "base_uri": "https://localhost:8080/",
     "height": 106
    },
    "colab_type": "code",
    "executionInfo": {
     "elapsed": 904,
     "status": "ok",
     "timestamp": 1574480506212,
     "user": {
      "displayName": "Nida Jawre",
      "photoUrl": "",
      "userId": "04154925072722594964"
     },
     "user_tz": -330
    },
    "id": "ePN5ukmbbiUF",
    "outputId": "08c0595b-372a-4768-dc72-48937a753103"
   },
   "outputs": [
    {
     "data": {
      "text/html": [
       "<div>\n",
       "<style scoped>\n",
       "    .dataframe tbody tr th:only-of-type {\n",
       "        vertical-align: middle;\n",
       "    }\n",
       "\n",
       "    .dataframe tbody tr th {\n",
       "        vertical-align: top;\n",
       "    }\n",
       "\n",
       "    .dataframe thead th {\n",
       "        text-align: right;\n",
       "    }\n",
       "</style>\n",
       "<table border=\"1\" class=\"dataframe\">\n",
       "  <thead>\n",
       "    <tr style=\"text-align: right;\">\n",
       "      <th></th>\n",
       "      <th>Agency Type</th>\n",
       "      <th>Claim</th>\n",
       "    </tr>\n",
       "  </thead>\n",
       "  <tbody>\n",
       "    <tr>\n",
       "      <th>0</th>\n",
       "      <td>Airlines</td>\n",
       "      <td>0.041998</td>\n",
       "    </tr>\n",
       "    <tr>\n",
       "      <th>1</th>\n",
       "      <td>Travel Agency</td>\n",
       "      <td>0.009132</td>\n",
       "    </tr>\n",
       "  </tbody>\n",
       "</table>\n",
       "</div>"
      ],
      "text/plain": [
       "     Agency Type     Claim\n",
       "0       Airlines  0.041998\n",
       "1  Travel Agency  0.009132"
      ]
     },
     "execution_count": 18,
     "metadata": {
      "tags": []
     },
     "output_type": "execute_result"
    }
   ],
   "source": [
    "ins_data2[['Agency Type', 'Claim']].groupby(['Agency Type'], as_index=False).mean().sort_values(by='Claim', ascending=False)"
   ]
  },
  {
   "cell_type": "code",
   "execution_count": 19,
   "metadata": {
    "colab": {
     "base_uri": "https://localhost:8080/",
     "height": 67
    },
    "colab_type": "code",
    "executionInfo": {
     "elapsed": 1074,
     "status": "ok",
     "timestamp": 1574480511357,
     "user": {
      "displayName": "Nida Jawre",
      "photoUrl": "",
      "userId": "04154925072722594964"
     },
     "user_tz": -330
    },
    "id": "xEHKvE3sdrat",
    "outputId": "cde61def-2b2e-4e16-cffa-3590ad236fce"
   },
   "outputs": [
    {
     "data": {
      "text/plain": [
       "Travel Agency    36684\n",
       "Airlines         14072\n",
       "Name: Agency Type, dtype: int64"
      ]
     },
     "execution_count": 19,
     "metadata": {
      "tags": []
     },
     "output_type": "execute_result"
    }
   ],
   "source": [
    "ins_data2['Agency Type'].value_counts()"
   ]
  },
  {
   "cell_type": "code",
   "execution_count": 0,
   "metadata": {
    "colab": {},
    "colab_type": "code",
    "id": "zQjr04Ajdgdj"
   },
   "outputs": [],
   "source": [
    "#ins_data2['Agency Type'] = ins_data2['Agency Type'].map( {'Travel Agency': 0, 'Airlines': 1} ).astype(int)"
   ]
  },
  {
   "cell_type": "code",
   "execution_count": 0,
   "metadata": {
    "colab": {},
    "colab_type": "code",
    "id": "ZDCk0U0E7QZJ"
   },
   "outputs": [],
   "source": [
    "#test_data['Agency Type'] = test_data['Agency Type'].map( {'Travel Agency': 0, 'Airlines': 1} ).astype(int)"
   ]
  },
  {
   "cell_type": "code",
   "execution_count": 23,
   "metadata": {
    "colab": {
     "base_uri": "https://localhost:8080/",
     "height": 136
    },
    "colab_type": "code",
    "executionInfo": {
     "elapsed": 1344,
     "status": "ok",
     "timestamp": 1574480798423,
     "user": {
      "displayName": "Nida Jawre",
      "photoUrl": "",
      "userId": "04154925072722594964"
     },
     "user_tz": -330
    },
    "id": "u5HbAayJeB1k",
    "outputId": "d8388989-80d1-46d5-a955-11a2e3944ee9"
   },
   "outputs": [
    {
     "data": {
      "text/html": [
       "<div>\n",
       "<style scoped>\n",
       "    .dataframe tbody tr th:only-of-type {\n",
       "        vertical-align: middle;\n",
       "    }\n",
       "\n",
       "    .dataframe tbody tr th {\n",
       "        vertical-align: top;\n",
       "    }\n",
       "\n",
       "    .dataframe thead th {\n",
       "        text-align: right;\n",
       "    }\n",
       "</style>\n",
       "<table border=\"1\" class=\"dataframe\">\n",
       "  <thead>\n",
       "    <tr style=\"text-align: right;\">\n",
       "      <th>Claim</th>\n",
       "      <th>0</th>\n",
       "      <th>1</th>\n",
       "    </tr>\n",
       "    <tr>\n",
       "      <th>Distribution Channel</th>\n",
       "      <th></th>\n",
       "      <th></th>\n",
       "    </tr>\n",
       "  </thead>\n",
       "  <tbody>\n",
       "    <tr>\n",
       "      <th>Offline</th>\n",
       "      <td>0.017220</td>\n",
       "      <td>0.000335</td>\n",
       "    </tr>\n",
       "    <tr>\n",
       "      <th>Online</th>\n",
       "      <td>0.964536</td>\n",
       "      <td>0.017909</td>\n",
       "    </tr>\n",
       "  </tbody>\n",
       "</table>\n",
       "</div>"
      ],
      "text/plain": [
       "Claim                        0         1\n",
       "Distribution Channel                    \n",
       "Offline               0.017220  0.000335\n",
       "Online                0.964536  0.017909"
      ]
     },
     "execution_count": 23,
     "metadata": {
      "tags": []
     },
     "output_type": "execute_result"
    }
   ],
   "source": [
    "pd.crosstab(index=ins_data2['Distribution Channel'],columns=ins_data2['Claim'],normalize=True)"
   ]
  },
  {
   "cell_type": "code",
   "execution_count": 0,
   "metadata": {
    "colab": {},
    "colab_type": "code",
    "id": "tOMWMFFOeORE"
   },
   "outputs": [],
   "source": [
    "#ins_data2['Distribution Channel'] = ins_data2['Distribution Channel'].map( {'Online': 0, 'Offline': 1} ).astype(int)"
   ]
  },
  {
   "cell_type": "code",
   "execution_count": 0,
   "metadata": {
    "colab": {},
    "colab_type": "code",
    "id": "4vBnBB_h7avh"
   },
   "outputs": [],
   "source": [
    "#test_data['Distribution Channel'] = test_data['Distribution Channel'].map( {'Online': 0, 'Offline': 1} ).astype(int)"
   ]
  },
  {
   "cell_type": "code",
   "execution_count": 26,
   "metadata": {
    "colab": {
     "base_uri": "https://localhost:8080/",
     "height": 269
    },
    "colab_type": "code",
    "executionInfo": {
     "elapsed": 886,
     "status": "ok",
     "timestamp": 1574480836069,
     "user": {
      "displayName": "Nida Jawre",
      "photoUrl": "",
      "userId": "04154925072722594964"
     },
     "user_tz": -330
    },
    "id": "y1l-6lDIeaH0",
    "outputId": "20af0d4c-5ab6-456f-9cf6-f7e26bfcc476"
   },
   "outputs": [
    {
     "name": "stdout",
     "output_type": "stream",
     "text": [
      "<class 'pandas.core.frame.DataFrame'>\n",
      "Int64Index: 50756 entries, 0 to 62287\n",
      "Data columns (total 10 columns):\n",
      "Age                     50756 non-null int64\n",
      "Agency                  50756 non-null object\n",
      "Agency Type             50756 non-null int64\n",
      "Commision (in value)    50756 non-null float64\n",
      "Destination             50756 non-null object\n",
      "Distribution Channel    50756 non-null int64\n",
      "Duration                50756 non-null int64\n",
      "Net Sales               50756 non-null float64\n",
      "Product Name            50756 non-null object\n",
      "Claim                   50756 non-null int64\n",
      "dtypes: float64(2), int64(5), object(3)\n",
      "memory usage: 4.3+ MB\n"
     ]
    }
   ],
   "source": [
    "ins_data2.info()"
   ]
  },
  {
   "cell_type": "code",
   "execution_count": 27,
   "metadata": {
    "colab": {
     "base_uri": "https://localhost:8080/",
     "height": 218
    },
    "colab_type": "code",
    "executionInfo": {
     "elapsed": 1259,
     "status": "ok",
     "timestamp": 1574480839964,
     "user": {
      "displayName": "Nida Jawre",
      "photoUrl": "",
      "userId": "04154925072722594964"
     },
     "user_tz": -330
    },
    "id": "ttBEX2W7fIPj",
    "outputId": "5b838126-005e-4f67-aabb-e1554d0b34ff"
   },
   "outputs": [
    {
     "data": {
      "text/plain": [
       "SINGAPORE                   10743\n",
       "MALAYSIA                     4782\n",
       "THAILAND                     4740\n",
       "CHINA                        3796\n",
       "AUSTRALIA                    2978\n",
       "                            ...  \n",
       "CAYMAN ISLANDS                  2\n",
       "NORTHERN MARIANA ISLANDS        2\n",
       "ZAMBIA                          2\n",
       "LATVIA                          1\n",
       "TURKMENISTAN                    1\n",
       "Name: Destination, Length: 102, dtype: int64"
      ]
     },
     "execution_count": 27,
     "metadata": {
      "tags": []
     },
     "output_type": "execute_result"
    }
   ],
   "source": [
    "ins_data2['Destination'].value_counts()"
   ]
  },
  {
   "cell_type": "code",
   "execution_count": 0,
   "metadata": {
    "colab": {},
    "colab_type": "code",
    "id": "_-F6sWfUfQN0"
   },
   "outputs": [],
   "source": [
    "a=ins_data2['Agency'].value_counts()/ins_data2['Agency'].value_counts().sum()\n",
    "a=a.to_dict()\n",
    "ins_data2['Agency']= ins_data2['Agency'].map(a)"
   ]
  },
  {
   "cell_type": "code",
   "execution_count": 0,
   "metadata": {
    "colab": {},
    "colab_type": "code",
    "id": "AyU2VVH07kNQ"
   },
   "outputs": [],
   "source": [
    "a=test_data['Agency'].value_counts()/test_data['Agency'].value_counts().sum()\n",
    "a=a.to_dict()\n",
    "test_data['Agency']= test_data['Agency'].map(a)"
   ]
  },
  {
   "cell_type": "code",
   "execution_count": 0,
   "metadata": {
    "colab": {},
    "colab_type": "code",
    "id": "uPKX2ajsfaXD"
   },
   "outputs": [],
   "source": [
    "b=ins_data2['Destination'].value_counts()/ins_data2['Destination'].value_counts().sum()\n",
    "b=b.to_dict()\n",
    "ins_data2['Destination']= ins_data2['Destination'].map(b)"
   ]
  },
  {
   "cell_type": "code",
   "execution_count": 0,
   "metadata": {
    "colab": {},
    "colab_type": "code",
    "id": "kjbR4L4h7xQo"
   },
   "outputs": [],
   "source": [
    "b=test_data['Destination'].value_counts()/test_data['Destination'].value_counts().sum()\n",
    "b=b.to_dict()\n",
    "test_data['Destination']= test_data['Destination'].map(b)"
   ]
  },
  {
   "cell_type": "code",
   "execution_count": 0,
   "metadata": {
    "colab": {},
    "colab_type": "code",
    "id": "TB1SSMjdfsvj"
   },
   "outputs": [],
   "source": [
    "c=ins_data2['Product Name'].value_counts()/ins_data2['Product Name'].value_counts().sum()\n",
    "c=c.to_dict()\n",
    "ins_data2['Product Name']= ins_data2['Product Name'].map(c)"
   ]
  },
  {
   "cell_type": "code",
   "execution_count": 0,
   "metadata": {
    "colab": {},
    "colab_type": "code",
    "id": "jt47V_pN8BGD"
   },
   "outputs": [],
   "source": [
    "c=test_data['Product Name'].value_counts()/test_data['Product Name'].value_counts().sum()\n",
    "c=c.to_dict()\n",
    "test_data['Product Name']= test_data['Product Name'].map(c)"
   ]
  },
  {
   "cell_type": "code",
   "execution_count": 0,
   "metadata": {
    "colab": {},
    "colab_type": "code",
    "id": "4genXzmypro9"
   },
   "outputs": [],
   "source": [
    "ins_data2= pd.get_dummies(ins_data2, columns=['Agency Type','Distribution Channel'],drop_first=True)"
   ]
  },
  {
   "cell_type": "code",
   "execution_count": 224,
   "metadata": {
    "colab": {
     "base_uri": "https://localhost:8080/",
     "height": 84
    },
    "colab_type": "code",
    "executionInfo": {
     "elapsed": 987,
     "status": "ok",
     "timestamp": 1574492727103,
     "user": {
      "displayName": "Nida Jawre",
      "photoUrl": "",
      "userId": "04154925072722594964"
     },
     "user_tz": -330
    },
    "id": "vQm113X3FDAG",
    "outputId": "c2f2a844-bba6-4402-d142-4216f61b79af"
   },
   "outputs": [
    {
     "data": {
      "text/plain": [
       "Index(['Age', 'Agency', 'Commision (in value)', 'Destination', 'Duration',\n",
       "       'Net Sales', 'Product Name', 'Claim', 'Agency Type_Travel Agency',\n",
       "       'Distribution Channel_Online'],\n",
       "      dtype='object')"
      ]
     },
     "execution_count": 224,
     "metadata": {
      "tags": []
     },
     "output_type": "execute_result"
    }
   ],
   "source": [
    "ins_data2.columns"
   ]
  },
  {
   "cell_type": "code",
   "execution_count": 0,
   "metadata": {
    "colab": {},
    "colab_type": "code",
    "id": "6OyFjG1ep2Sb"
   },
   "outputs": [],
   "source": [
    "test_data= pd.get_dummies(test_data, columns=['Agency Type','Distribution Channel'],drop_first=True)"
   ]
  },
  {
   "cell_type": "code",
   "execution_count": 0,
   "metadata": {
    "colab": {},
    "colab_type": "code",
    "id": "xnRncZ0xf7RE"
   },
   "outputs": [],
   "source": [
    "#ins_data2.drop(columns=['AgeBand'],inplace=True)"
   ]
  },
  {
   "cell_type": "code",
   "execution_count": 0,
   "metadata": {
    "colab": {},
    "colab_type": "code",
    "id": "CAA2fQcjhEIu"
   },
   "outputs": [],
   "source": [
    "x=ins_data2.drop(['Claim'],axis=1)"
   ]
  },
  {
   "cell_type": "code",
   "execution_count": 0,
   "metadata": {
    "colab": {},
    "colab_type": "code",
    "id": "4_j5ffcchjTe"
   },
   "outputs": [],
   "source": [
    "y=ins_data2['Claim']"
   ]
  },
  {
   "cell_type": "code",
   "execution_count": 0,
   "metadata": {
    "colab": {},
    "colab_type": "code",
    "id": "pbOoBlBHgGfj"
   },
   "outputs": [],
   "source": [
    "X_train,X_test,Y_train,Y_test=train_test_split(x,y,test_size=0.3,random_state=0)"
   ]
  },
  {
   "cell_type": "markdown",
   "metadata": {
    "colab_type": "text",
    "id": "jbuKxrQJh2He"
   },
   "source": [
    "Logistic_regression"
   ]
  },
  {
   "cell_type": "code",
   "execution_count": 194,
   "metadata": {
    "colab": {
     "base_uri": "https://localhost:8080/",
     "height": 70
    },
    "colab_type": "code",
    "executionInfo": {
     "elapsed": 834,
     "status": "ok",
     "timestamp": 1574489099328,
     "user": {
      "displayName": "Nida Jawre",
      "photoUrl": "",
      "userId": "04154925072722594964"
     },
     "user_tz": -330
    },
    "id": "oDCVHP21h6D2",
    "outputId": "5b30ac18-4c6b-4a68-aab9-5961ea4bfb23"
   },
   "outputs": [
    {
     "name": "stderr",
     "output_type": "stream",
     "text": [
      "/usr/local/lib/python3.6/dist-packages/sklearn/linear_model/logistic.py:432: FutureWarning: Default solver will be changed to 'lbfgs' in 0.22. Specify a solver to silence this warning.\n",
      "  FutureWarning)\n"
     ]
    }
   ],
   "source": [
    "logreg = LogisticRegression()\n",
    "logreg.fit(X_train, Y_train)\n",
    "Y_pred = logreg.predict(X_test)\n",
    "conf_matrix=confusion_matrix(Y_test, Y_pred)\n",
    "acc_log = round(accuracy_score(Y_test, Y_pred) * 100, 2)\n",
    "prec_log= round(precision_score(Y_test, Y_pred) * 100, 2)\n",
    "F1_log = round(f1_score(Y_test,Y_pred)*100,2)\n",
    "Recall_log = round(recall_score(Y_test,Y_pred)*100,2)"
   ]
  },
  {
   "cell_type": "code",
   "execution_count": 196,
   "metadata": {
    "colab": {
     "base_uri": "https://localhost:8080/",
     "height": 34
    },
    "colab_type": "code",
    "executionInfo": {
     "elapsed": 810,
     "status": "ok",
     "timestamp": 1574489451790,
     "user": {
      "displayName": "Nida Jawre",
      "photoUrl": "",
      "userId": "04154925072722594964"
     },
     "user_tz": -330
    },
    "id": "eiYimVm_xbpy",
    "outputId": "a56ec04d-f508-4640-d54f-6c370fee7c42"
   },
   "outputs": [
    {
     "data": {
      "text/plain": [
       "24.56"
      ]
     },
     "execution_count": 196,
     "metadata": {
      "tags": []
     },
     "output_type": "execute_result"
    }
   ],
   "source": [
    "Recall_log"
   ]
  },
  {
   "cell_type": "code",
   "execution_count": 197,
   "metadata": {
    "colab": {
     "base_uri": "https://localhost:8080/",
     "height": 284
    },
    "colab_type": "code",
    "executionInfo": {
     "elapsed": 684,
     "status": "ok",
     "timestamp": 1574489453319,
     "user": {
      "displayName": "Nida Jawre",
      "photoUrl": "",
      "userId": "04154925072722594964"
     },
     "user_tz": -330
    },
    "id": "xmlYBb8niD8I",
    "outputId": "faf8e89c-1175-4161-c6eb-002df0dfa5ae"
   },
   "outputs": [
    {
     "data": {
      "text/html": [
       "<div>\n",
       "<style scoped>\n",
       "    .dataframe tbody tr th:only-of-type {\n",
       "        vertical-align: middle;\n",
       "    }\n",
       "\n",
       "    .dataframe tbody tr th {\n",
       "        vertical-align: top;\n",
       "    }\n",
       "\n",
       "    .dataframe thead th {\n",
       "        text-align: right;\n",
       "    }\n",
       "</style>\n",
       "<table border=\"1\" class=\"dataframe\">\n",
       "  <thead>\n",
       "    <tr style=\"text-align: right;\">\n",
       "      <th></th>\n",
       "      <th>Feature</th>\n",
       "      <th>Correlation</th>\n",
       "    </tr>\n",
       "  </thead>\n",
       "  <tbody>\n",
       "    <tr>\n",
       "      <th>3</th>\n",
       "      <td>Duration</td>\n",
       "      <td>4.361100</td>\n",
       "    </tr>\n",
       "    <tr>\n",
       "      <th>5</th>\n",
       "      <td>Product Name</td>\n",
       "      <td>0.009491</td>\n",
       "    </tr>\n",
       "    <tr>\n",
       "      <th>2</th>\n",
       "      <td>Destination</td>\n",
       "      <td>0.004113</td>\n",
       "    </tr>\n",
       "    <tr>\n",
       "      <th>4</th>\n",
       "      <td>Net Sales</td>\n",
       "      <td>-0.002084</td>\n",
       "    </tr>\n",
       "    <tr>\n",
       "      <th>0</th>\n",
       "      <td>Agency</td>\n",
       "      <td>-0.012423</td>\n",
       "    </tr>\n",
       "    <tr>\n",
       "      <th>1</th>\n",
       "      <td>Commision (in value)</td>\n",
       "      <td>-0.326557</td>\n",
       "    </tr>\n",
       "    <tr>\n",
       "      <th>7</th>\n",
       "      <td>Distribution Channel_Online</td>\n",
       "      <td>-0.526515</td>\n",
       "    </tr>\n",
       "    <tr>\n",
       "      <th>6</th>\n",
       "      <td>Agency Type_Travel Agency</td>\n",
       "      <td>-1.469183</td>\n",
       "    </tr>\n",
       "  </tbody>\n",
       "</table>\n",
       "</div>"
      ],
      "text/plain": [
       "                       Feature  Correlation\n",
       "3                     Duration     4.361100\n",
       "5                 Product Name     0.009491\n",
       "2                  Destination     0.004113\n",
       "4                    Net Sales    -0.002084\n",
       "0                       Agency    -0.012423\n",
       "1         Commision (in value)    -0.326557\n",
       "7  Distribution Channel_Online    -0.526515\n",
       "6    Agency Type_Travel Agency    -1.469183"
      ]
     },
     "execution_count": 197,
     "metadata": {
      "tags": []
     },
     "output_type": "execute_result"
    }
   ],
   "source": [
    "coeff_df = pd.DataFrame(X_train.columns.delete(0))\n",
    "coeff_df.columns = ['Feature']\n",
    "coeff_df[\"Correlation\"] = pd.Series(logreg.coef_[0])\n",
    "\n",
    "coeff_df.sort_values(by='Correlation', ascending=False)"
   ]
  },
  {
   "cell_type": "markdown",
   "metadata": {
    "colab_type": "text",
    "id": "ND-WWwCxi4-W"
   },
   "source": [
    "SVM"
   ]
  },
  {
   "cell_type": "code",
   "execution_count": 198,
   "metadata": {
    "colab": {
     "base_uri": "https://localhost:8080/",
     "height": 70
    },
    "colab_type": "code",
    "executionInfo": {
     "elapsed": 189162,
     "status": "ok",
     "timestamp": 1574489698747,
     "user": {
      "displayName": "Nida Jawre",
      "photoUrl": "",
      "userId": "04154925072722594964"
     },
     "user_tz": -330
    },
    "id": "toRaGhqDiOcz",
    "outputId": "1b53c975-be4f-458a-97da-4e05e219bfa4"
   },
   "outputs": [
    {
     "name": "stderr",
     "output_type": "stream",
     "text": [
      "/usr/local/lib/python3.6/dist-packages/sklearn/svm/base.py:193: FutureWarning: The default value of gamma will change from 'auto' to 'scale' in version 0.22 to account better for unscaled features. Set gamma explicitly to 'auto' or 'scale' to avoid this warning.\n",
      "  \"avoid this warning.\", FutureWarning)\n"
     ]
    }
   ],
   "source": [
    "svc = SVC()\n",
    "svc.fit(X_train, Y_train)\n",
    "Y_pred = svc.predict(X_test)\n",
    "acc_svc = round(accuracy_score(Y_test, Y_pred) * 100, 2)\n",
    "prec_svc=round(precision_score(Y_test, Y_pred) * 100, 2)\n",
    "F1_svc = round(f1_score(Y_test,Y_pred)*100,2)\n",
    "Recall_svc = round(recall_score(Y_test,Y_pred)*100,2)"
   ]
  },
  {
   "cell_type": "markdown",
   "metadata": {
    "colab_type": "text",
    "id": "JyTHMDkrjJmW"
   },
   "source": [
    "KNN"
   ]
  },
  {
   "cell_type": "code",
   "execution_count": 0,
   "metadata": {
    "colab": {},
    "colab_type": "code",
    "id": "fm3Ph_0yitQj"
   },
   "outputs": [],
   "source": [
    "knn = KNeighborsClassifier(n_neighbors = 3)\n",
    "knn.fit(X_train, Y_train)\n",
    "Y_pred = knn.predict(X_test)\n",
    "acc_knn = round(accuracy_score(Y_test, Y_pred) * 100, 2)\n",
    "prec_knn=round(precision_score(Y_test, Y_pred) * 100, 2)\n",
    "F1_knn = round(f1_score(Y_test,Y_pred)*100,2)\n",
    "Recall_knn = round(recall_score(Y_test,Y_pred)*100,2)"
   ]
  },
  {
   "cell_type": "code",
   "execution_count": 0,
   "metadata": {
    "colab": {},
    "colab_type": "code",
    "id": "8TizpUKojctD"
   },
   "outputs": [],
   "source": [
    "# Gaussian Naive Bayes\n",
    "\n",
    "gaussian = GaussianNB()\n",
    "gaussian.fit(X_train, Y_train)\n",
    "Y_pred = gaussian.predict(X_test)\n",
    "acc_gaussian = round(accuracy_score(Y_test, Y_pred) * 100, 2)\n",
    "prec_guassian=round(precision_score(Y_test, Y_pred) * 100, 2)\n",
    "F1_guassian = round(f1_score(Y_test,Y_pred)*100,2)\n",
    "Recall_guassian= round(recall_score(Y_test,Y_pred)*100,2)"
   ]
  },
  {
   "cell_type": "code",
   "execution_count": 0,
   "metadata": {
    "colab": {},
    "colab_type": "code",
    "id": "9sNUGew6jg5j"
   },
   "outputs": [],
   "source": [
    "# Perceptron\n",
    "\n",
    "perceptron = Perceptron()\n",
    "perceptron.fit(X_train, Y_train)\n",
    "Y_pred = perceptron.predict(X_test)\n",
    "acc_perceptron = round(accuracy_score(Y_test, Y_pred) * 100, 2)\n",
    "prec_perceptron=round(precision_score(Y_test, Y_pred) * 100, 2)\n",
    "F1_perceptron = round(f1_score(Y_test,Y_pred)*100,2)\n",
    "Recall_perceptron = round(recall_score(Y_test,Y_pred)*100,2)"
   ]
  },
  {
   "cell_type": "code",
   "execution_count": 203,
   "metadata": {
    "colab": {
     "base_uri": "https://localhost:8080/",
     "height": 70
    },
    "colab_type": "code",
    "executionInfo": {
     "elapsed": 6045,
     "status": "ok",
     "timestamp": 1574490207770,
     "user": {
      "displayName": "Nida Jawre",
      "photoUrl": "",
      "userId": "04154925072722594964"
     },
     "user_tz": -330
    },
    "id": "9HEj5b3Zjj8i",
    "outputId": "26b51556-4cb0-4701-9f42-a8816540b757"
   },
   "outputs": [
    {
     "name": "stderr",
     "output_type": "stream",
     "text": [
      "/usr/local/lib/python3.6/dist-packages/sklearn/svm/base.py:929: ConvergenceWarning: Liblinear failed to converge, increase the number of iterations.\n",
      "  \"the number of iterations.\", ConvergenceWarning)\n"
     ]
    }
   ],
   "source": [
    "# Linear SVC\n",
    "\n",
    "linear_svc = LinearSVC()\n",
    "linear_svc.fit(X_train, Y_train)\n",
    "Y_pred = linear_svc.predict(X_test)\n",
    "acc_linear_svc = round(accuracy_score(Y_test, Y_pred) * 100, 2)\n",
    "prec_linear_svc=round(precision_score(Y_test, Y_pred) * 100, 2)\n",
    "F1_linear_svc = round(f1_score(Y_test,Y_pred)*100,2)\n",
    "Recall_linear_svc = round(recall_score(Y_test,Y_pred)*100,2)"
   ]
  },
  {
   "cell_type": "code",
   "execution_count": 0,
   "metadata": {
    "colab": {},
    "colab_type": "code",
    "id": "gu6A2QH-jmuT"
   },
   "outputs": [],
   "source": [
    "# Stochastic Gradient Descent\n",
    "\n",
    "sgd = SGDClassifier()\n",
    "sgd.fit(X_train, Y_train)\n",
    "Y_pred = sgd.predict(X_test)\n",
    "acc_sgd = round(accuracy_score(Y_test, Y_pred) * 100, 2)\n",
    "prec_sgd=round(precision_score(Y_test, Y_pred) * 100, 2)\n",
    "F1_sgd = round(f1_score(Y_test,Y_pred)*100,2)\n",
    "Recall_sgd = round(recall_score(Y_test,Y_pred)*100,2)"
   ]
  },
  {
   "cell_type": "code",
   "execution_count": 0,
   "metadata": {
    "colab": {},
    "colab_type": "code",
    "id": "Z34F3ANIjqjT"
   },
   "outputs": [],
   "source": [
    "# Decision Tree\n",
    "\n",
    "decision_tree = DecisionTreeClassifier()\n",
    "decision_tree.fit(X_train, Y_train)\n",
    "Y_pred = decision_tree.predict(X_test)\n",
    "acc_decision_tree = round(accuracy_score(Y_test, Y_pred) * 100, 2)\n",
    "prec_decision_tree=round(precision_score(Y_test, Y_pred) * 100, 2)\n",
    "F1_decision_tree = round(f1_score(Y_test,Y_pred)*100,2)\n",
    "Recall_decision_tree = round(recall_score(Y_test,Y_pred)*100,2)"
   ]
  },
  {
   "cell_type": "code",
   "execution_count": 0,
   "metadata": {
    "colab": {},
    "colab_type": "code",
    "id": "fkVde55V9wKU"
   },
   "outputs": [],
   "source": [
    "#kfold\n",
    "from sklearn.model_selection import KFold\n",
    "kf = KFold(n_splits = 5, shuffle = True)\n",
    "rf_reg = RandomForestClassifier(criterion='gini')\n"
   ]
  },
  {
   "cell_type": "code",
   "execution_count": 207,
   "metadata": {
    "colab": {
     "base_uri": "https://localhost:8080/",
     "height": 104
    },
    "colab_type": "code",
    "executionInfo": {
     "elapsed": 6450,
     "status": "ok",
     "timestamp": 1574490336976,
     "user": {
      "displayName": "Nida Jawre",
      "photoUrl": "",
      "userId": "04154925072722594964"
     },
     "user_tz": -330
    },
    "id": "i8skBLqX-PsR",
    "outputId": "f05185f2-eb2b-42dc-c818-9eb1d331f114"
   },
   "outputs": [
    {
     "name": "stderr",
     "output_type": "stream",
     "text": [
      "/usr/local/lib/python3.6/dist-packages/sklearn/ensemble/forest.py:245: FutureWarning: The default value of n_estimators will change from 10 in version 0.20 to 100 in 0.22.\n",
      "  \"10 in version 0.20 to 100 in 0.22.\", FutureWarning)\n"
     ]
    },
    {
     "name": "stdout",
     "output_type": "stream",
     "text": [
      "Scores from each Iteration:  [0.9895649381923263, 0.9873173864183657, 0.9913308717290095, 0.9873173864183657, 0.9886819714239846, 0.9900465564296035, 0.9898057473109648, 0.9897254776047519, 0.9906887140793065, 0.9898057473109648, 0.9910097929041579, 0.989645207898539]\n",
      "Average K-Fold Score : 0.989578316476695\n"
     ]
    }
   ],
   "source": [
    "scores = []\n",
    "for i in range(12):\n",
    "    result = next(kf.split(x), None)\n",
    "    x_train = x.iloc[result[0]]\n",
    "    x_test = x.iloc[result[1]]\n",
    "    y_train = y.iloc[result[0]]\n",
    "    y_test = y.iloc[result[1]]\n",
    "    model = rf_reg.fit(x_train,y_train)\n",
    "    predictions = rf_reg.predict(x_test)\n",
    "    scores.append(model.score(x_test,y_test))\n",
    "print('Scores from each Iteration: ', scores)\n",
    "print('Average K-Fold Score :' , np.mean(scores))"
   ]
  },
  {
   "cell_type": "code",
   "execution_count": 0,
   "metadata": {
    "colab": {},
    "colab_type": "code",
    "id": "VfHHs5gt_JCl"
   },
   "outputs": [],
   "source": [
    "accuracy_score(y_test,predictions)\n",
    "acc_kfold_rf = round(accuracy_score(y_test,predictions) * 100, 2)\n",
    "prec_kfold_rf=round(precision_score(y_test,predictions) * 100, 2)\n",
    "F1_kfold_rf = round(f1_score(y_test,predictions)*100,2)\n",
    "Recall_kfold_rf = round(recall_score(y_test,predictions)*100,2)"
   ]
  },
  {
   "cell_type": "code",
   "execution_count": 209,
   "metadata": {
    "colab": {
     "base_uri": "https://localhost:8080/",
     "height": 34
    },
    "colab_type": "code",
    "executionInfo": {
     "elapsed": 849,
     "status": "ok",
     "timestamp": 1574490347079,
     "user": {
      "displayName": "Nida Jawre",
      "photoUrl": "",
      "userId": "04154925072722594964"
     },
     "user_tz": -330
    },
    "id": "SzMaAmzP_bOn",
    "outputId": "50a5410e-b182-417b-c89a-a774a9e848d8"
   },
   "outputs": [
    {
     "data": {
      "text/plain": [
       "0.9503464203233256"
      ]
     },
     "execution_count": 209,
     "metadata": {
      "tags": []
     },
     "output_type": "execute_result"
    }
   ],
   "source": [
    "precision_score(y_test,predictions)"
   ]
  },
  {
   "cell_type": "code",
   "execution_count": 0,
   "metadata": {
    "colab": {},
    "colab_type": "code",
    "id": "m5nkaftAju7D"
   },
   "outputs": [],
   "source": [
    "# Random Forest\n",
    "\n",
    "random_forest = RandomForestClassifier(n_estimators=100)\n",
    "random_forest.fit(X_train, Y_train)\n",
    "Y_pred = random_forest.predict(X_test)\n",
    "random_forest.score(X_train, Y_train)\n",
    "acc_random_forest = round(accuracy_score(Y_test, Y_pred) * 100, 2)\n",
    "prec_random_forest=round(precision_score(Y_test, Y_pred) * 100, 2)\n",
    "F1_random_forest = round(f1_score(Y_test,Y_pred)*100,2)\n",
    "Recall_random_forest = round(recall_score(Y_test,Y_pred)*100,2)\n"
   ]
  },
  {
   "cell_type": "code",
   "execution_count": 0,
   "metadata": {
    "colab": {},
    "colab_type": "code",
    "id": "RIgEd7SC8YMp"
   },
   "outputs": [],
   "source": [
    "test_pred_rf = random_forest.predict(test_data)"
   ]
  },
  {
   "cell_type": "code",
   "execution_count": 217,
   "metadata": {
    "colab": {
     "base_uri": "https://localhost:8080/",
     "height": 79
    },
    "colab_type": "code",
    "executionInfo": {
     "elapsed": 2156,
     "status": "ok",
     "timestamp": 1574491491735,
     "user": {
      "displayName": "Nida Jawre",
      "photoUrl": "",
      "userId": "04154925072722594964"
     },
     "user_tz": -330
    },
    "id": "0gb89sksARqL",
    "outputId": "eecf607d-1dad-486b-f19c-c850fe275264"
   },
   "outputs": [
    {
     "name": "stderr",
     "output_type": "stream",
     "text": [
      "Using TensorFlow backend.\n"
     ]
    },
    {
     "data": {
      "text/html": [
       "<p style=\"color: red;\">\n",
       "The default version of TensorFlow in Colab will soon switch to TensorFlow 2.x.<br>\n",
       "We recommend you <a href=\"https://www.tensorflow.org/guide/migrate\" target=\"_blank\">upgrade</a> now \n",
       "or ensure your notebook will continue to use TensorFlow 1.x via the <code>%tensorflow_version 1.x</code> magic:\n",
       "<a href=\"https://colab.research.google.com/notebooks/tensorflow_version.ipynb\" target=\"_blank\">more info</a>.</p>\n"
      ],
      "text/plain": [
       "<IPython.core.display.HTML object>"
      ]
     },
     "metadata": {
      "tags": []
     },
     "output_type": "display_data"
    }
   ],
   "source": [
    "from sklearn.ensemble import VotingClassifier\n",
    "from keras.models import Sequential\n",
    "from keras.layers import Dense"
   ]
  },
  {
   "cell_type": "code",
   "execution_count": 0,
   "metadata": {
    "colab": {},
    "colab_type": "code",
    "id": "XBy1P7asBB8R"
   },
   "outputs": [],
   "source": [
    "clf1 = LogisticRegression(solver='lbfgs', multi_class='multinomial',random_state=1)\n",
    "clf2 = RandomForestClassifier(n_estimators=50, random_state=1)\n",
    "clf3 = GaussianNB()"
   ]
  },
  {
   "cell_type": "code",
   "execution_count": 220,
   "metadata": {
    "colab": {
     "base_uri": "https://localhost:8080/",
     "height": 70
    },
    "colab_type": "code",
    "executionInfo": {
     "elapsed": 4756,
     "status": "ok",
     "timestamp": 1574491673418,
     "user": {
      "displayName": "Nida Jawre",
      "photoUrl": "",
      "userId": "04154925072722594964"
     },
     "user_tz": -330
    },
    "id": "vikBvzq88olK",
    "outputId": "a3d2641b-2c90-4a75-ae33-9062b3182042"
   },
   "outputs": [
    {
     "name": "stderr",
     "output_type": "stream",
     "text": [
      "/usr/local/lib/python3.6/dist-packages/sklearn/linear_model/logistic.py:947: ConvergenceWarning: lbfgs failed to converge. Increase the number of iterations.\n",
      "  \"of iterations.\", ConvergenceWarning)\n"
     ]
    }
   ],
   "source": [
    "eclf1 = VotingClassifier(estimators=[('lr', clf1), ('rf', clf2), ('gnb', clf3)], voting='hard')\n",
    "eclf1 = eclf1.fit(X_train, Y_train)\n",
    "Y_pred=eclf1.predict(X_test)\n",
    "acc_Voting_class = round(accuracy_score(Y_test, Y_pred) * 100, 2)\n",
    "prec_Voting_class=round(precision_score(Y_test, Y_pred) * 100, 2)\n",
    "F1_Voting_class = round(f1_score(Y_test,Y_pred)*100,2)\n",
    "Recall_Voting_class = round(recall_score(Y_test,Y_pred)*100,2)"
   ]
  },
  {
   "cell_type": "code",
   "execution_count": 0,
   "metadata": {
    "colab": {},
    "colab_type": "code",
    "id": "TBG73RVhLkvk"
   },
   "outputs": [],
   "source": [
    "#XGB classifier\n",
    "model_xgb=XGBClassifier()\n",
    "model_xgb.fit(X_train,Y_train)\n",
    "pred_xgb=model_xgb.predict(X_test)\n",
    "acc_xgb = round(accuracy_score(Y_test, Y_pred) * 100, 2)\n",
    "prec_xgb=round(precision_score(Y_test, Y_pred) * 100, 2)\n",
    "F1_xgb = round(f1_score(Y_test,Y_pred)*100,2)\n",
    "Recall_xgb = round(recall_score(Y_test,Y_pred)*100,2)"
   ]
  },
  {
   "cell_type": "code",
   "execution_count": 0,
   "metadata": {
    "colab": {},
    "colab_type": "code",
    "id": "t5lyzKWfMfX7"
   },
   "outputs": [],
   "source": [
    "#Adaboost classifier\n",
    "model_ada=AdaBoostClassifier()\n",
    "model_ada.fit(X_train,Y_train)\n",
    "pred_ada=model_ada.predict(X_test)\n",
    "acc_ada = round(accuracy_score(Y_test, Y_pred) * 100, 2)\n",
    "prec_ada=round(precision_score(Y_test, Y_pred) * 100, 2)\n",
    "F1_ada = round(f1_score(Y_test,Y_pred)*100,2)\n",
    "Recall_ada = round(recall_score(Y_test,Y_pred)*100,2)"
   ]
  },
  {
   "cell_type": "code",
   "execution_count": 228,
   "metadata": {
    "colab": {
     "base_uri": "https://localhost:8080/",
     "height": 432
    },
    "colab_type": "code",
    "executionInfo": {
     "elapsed": 912,
     "status": "ok",
     "timestamp": 1574494842423,
     "user": {
      "displayName": "Nida Jawre",
      "photoUrl": "",
      "userId": "04154925072722594964"
     },
     "user_tz": -330
    },
    "id": "1JzX9SYEjycz",
    "outputId": "1639da00-6759-4897-c065-1e32c89d41bf"
   },
   "outputs": [
    {
     "data": {
      "text/html": [
       "<div>\n",
       "<style scoped>\n",
       "    .dataframe tbody tr th:only-of-type {\n",
       "        vertical-align: middle;\n",
       "    }\n",
       "\n",
       "    .dataframe tbody tr th {\n",
       "        vertical-align: top;\n",
       "    }\n",
       "\n",
       "    .dataframe thead th {\n",
       "        text-align: right;\n",
       "    }\n",
       "</style>\n",
       "<table border=\"1\" class=\"dataframe\">\n",
       "  <thead>\n",
       "    <tr style=\"text-align: right;\">\n",
       "      <th></th>\n",
       "      <th>Model</th>\n",
       "      <th>Acc_Score</th>\n",
       "      <th>Precision</th>\n",
       "      <th>Recall</th>\n",
       "      <th>F1</th>\n",
       "    </tr>\n",
       "  </thead>\n",
       "  <tbody>\n",
       "    <tr>\n",
       "      <th>9</th>\n",
       "      <td>K_fold_RF</td>\n",
       "      <td>98.96</td>\n",
       "      <td>95.03</td>\n",
       "      <td>100.00</td>\n",
       "      <td>97.45</td>\n",
       "    </tr>\n",
       "    <tr>\n",
       "      <th>3</th>\n",
       "      <td>Random Forest</td>\n",
       "      <td>98.85</td>\n",
       "      <td>94.70</td>\n",
       "      <td>100.00</td>\n",
       "      <td>97.28</td>\n",
       "    </tr>\n",
       "    <tr>\n",
       "      <th>8</th>\n",
       "      <td>Decision Tree</td>\n",
       "      <td>97.84</td>\n",
       "      <td>90.48</td>\n",
       "      <td>100.00</td>\n",
       "      <td>95.00</td>\n",
       "    </tr>\n",
       "    <tr>\n",
       "      <th>1</th>\n",
       "      <td>KNN</td>\n",
       "      <td>96.23</td>\n",
       "      <td>84.62</td>\n",
       "      <td>99.77</td>\n",
       "      <td>91.57</td>\n",
       "    </tr>\n",
       "    <tr>\n",
       "      <th>0</th>\n",
       "      <td>Support Vector Machines</td>\n",
       "      <td>95.37</td>\n",
       "      <td>88.07</td>\n",
       "      <td>89.61</td>\n",
       "      <td>88.83</td>\n",
       "    </tr>\n",
       "    <tr>\n",
       "      <th>10</th>\n",
       "      <td>VotingClassifier</td>\n",
       "      <td>86.07</td>\n",
       "      <td>76.88</td>\n",
       "      <td>46.00</td>\n",
       "      <td>57.56</td>\n",
       "    </tr>\n",
       "    <tr>\n",
       "      <th>11</th>\n",
       "      <td>XGB</td>\n",
       "      <td>86.07</td>\n",
       "      <td>76.88</td>\n",
       "      <td>46.00</td>\n",
       "      <td>57.56</td>\n",
       "    </tr>\n",
       "    <tr>\n",
       "      <th>12</th>\n",
       "      <td>Adaboost</td>\n",
       "      <td>86.07</td>\n",
       "      <td>76.88</td>\n",
       "      <td>46.00</td>\n",
       "      <td>57.56</td>\n",
       "    </tr>\n",
       "    <tr>\n",
       "      <th>2</th>\n",
       "      <td>Logistic Regression</td>\n",
       "      <td>81.89</td>\n",
       "      <td>65.90</td>\n",
       "      <td>24.56</td>\n",
       "      <td>35.79</td>\n",
       "    </tr>\n",
       "    <tr>\n",
       "      <th>7</th>\n",
       "      <td>Linear SVC</td>\n",
       "      <td>81.53</td>\n",
       "      <td>60.54</td>\n",
       "      <td>29.02</td>\n",
       "      <td>39.23</td>\n",
       "    </tr>\n",
       "    <tr>\n",
       "      <th>4</th>\n",
       "      <td>Naive Bayes</td>\n",
       "      <td>81.32</td>\n",
       "      <td>55.46</td>\n",
       "      <td>46.00</td>\n",
       "      <td>50.29</td>\n",
       "    </tr>\n",
       "    <tr>\n",
       "      <th>5</th>\n",
       "      <td>Perceptron</td>\n",
       "      <td>76.83</td>\n",
       "      <td>42.70</td>\n",
       "      <td>37.41</td>\n",
       "      <td>39.88</td>\n",
       "    </tr>\n",
       "    <tr>\n",
       "      <th>6</th>\n",
       "      <td>Stochastic Gradient Decent</td>\n",
       "      <td>65.20</td>\n",
       "      <td>34.50</td>\n",
       "      <td>77.26</td>\n",
       "      <td>47.70</td>\n",
       "    </tr>\n",
       "  </tbody>\n",
       "</table>\n",
       "</div>"
      ],
      "text/plain": [
       "                         Model  Acc_Score  Precision  Recall     F1\n",
       "9                    K_fold_RF      98.96      95.03  100.00  97.45\n",
       "3                Random Forest      98.85      94.70  100.00  97.28\n",
       "8                Decision Tree      97.84      90.48  100.00  95.00\n",
       "1                          KNN      96.23      84.62   99.77  91.57\n",
       "0      Support Vector Machines      95.37      88.07   89.61  88.83\n",
       "10            VotingClassifier      86.07      76.88   46.00  57.56\n",
       "11                         XGB      86.07      76.88   46.00  57.56\n",
       "12                    Adaboost      86.07      76.88   46.00  57.56\n",
       "2          Logistic Regression      81.89      65.90   24.56  35.79\n",
       "7                   Linear SVC      81.53      60.54   29.02  39.23\n",
       "4                  Naive Bayes      81.32      55.46   46.00  50.29\n",
       "5                   Perceptron      76.83      42.70   37.41  39.88\n",
       "6   Stochastic Gradient Decent      65.20      34.50   77.26  47.70"
      ]
     },
     "execution_count": 228,
     "metadata": {
      "tags": []
     },
     "output_type": "execute_result"
    }
   ],
   "source": [
    "models = pd.DataFrame({\n",
    "    'Model': ['Support Vector Machines', 'KNN', 'Logistic Regression', \n",
    "              'Random Forest', 'Naive Bayes', 'Perceptron', \n",
    "              'Stochastic Gradient Decent', 'Linear SVC', \n",
    "              'Decision Tree','K_fold_RF','VotingClassifier','XGB','Adaboost'],\n",
    "    'Acc_Score': [acc_svc, acc_knn, acc_log, \n",
    "              acc_random_forest, acc_gaussian, acc_perceptron, \n",
    "              acc_sgd, acc_linear_svc, acc_decision_tree,acc_kfold_rf,acc_Voting_class,acc_xgb,acc_ada],\n",
    "    'Precision':[prec_svc, prec_knn, prec_log, \n",
    "              prec_random_forest, prec_guassian, prec_perceptron, \n",
    "              prec_sgd, prec_linear_svc, prec_decision_tree,prec_kfold_rf,prec_Voting_class,prec_xgb,prec_ada],\n",
    "    'Recall':[Recall_svc, Recall_knn, Recall_log, \n",
    "              Recall_random_forest, Recall_guassian, Recall_perceptron, \n",
    "              Recall_sgd, Recall_linear_svc, Recall_decision_tree,Recall_kfold_rf,Recall_Voting_class,Recall_xgb,Recall_ada],\n",
    "    'F1':[F1_svc, F1_knn, F1_log, F1_random_forest, F1_guassian, F1_perceptron, \n",
    "              F1_sgd, F1_linear_svc, F1_decision_tree,F1_kfold_rf,F1_Voting_class,F1_xgb,F1_ada]})\n",
    "models.sort_values(by='Acc_Score', ascending=False)"
   ]
  },
  {
   "cell_type": "code",
   "execution_count": 215,
   "metadata": {
    "colab": {
     "base_uri": "https://localhost:8080/",
     "height": 343
    },
    "colab_type": "code",
    "executionInfo": {
     "elapsed": 935,
     "status": "ok",
     "timestamp": 1574490694352,
     "user": {
      "displayName": "Nida Jawre",
      "photoUrl": "",
      "userId": "04154925072722594964"
     },
     "user_tz": -330
    },
    "id": "DnPp14-m9De1",
    "outputId": "4a90e78f-c73b-4f27-e716-aa29ff5e46c9"
   },
   "outputs": [
    {
     "data": {
      "text/html": [
       "<div>\n",
       "<style scoped>\n",
       "    .dataframe tbody tr th:only-of-type {\n",
       "        vertical-align: middle;\n",
       "    }\n",
       "\n",
       "    .dataframe tbody tr th {\n",
       "        vertical-align: top;\n",
       "    }\n",
       "\n",
       "    .dataframe thead th {\n",
       "        text-align: right;\n",
       "    }\n",
       "</style>\n",
       "<table border=\"1\" class=\"dataframe\">\n",
       "  <thead>\n",
       "    <tr style=\"text-align: right;\">\n",
       "      <th></th>\n",
       "      <th>importance</th>\n",
       "    </tr>\n",
       "    <tr>\n",
       "      <th>feature</th>\n",
       "      <th></th>\n",
       "    </tr>\n",
       "  </thead>\n",
       "  <tbody>\n",
       "    <tr>\n",
       "      <th>Duration</th>\n",
       "      <td>0.273</td>\n",
       "    </tr>\n",
       "    <tr>\n",
       "      <th>Age</th>\n",
       "      <td>0.193</td>\n",
       "    </tr>\n",
       "    <tr>\n",
       "      <th>Net Sales</th>\n",
       "      <td>0.178</td>\n",
       "    </tr>\n",
       "    <tr>\n",
       "      <th>Destination</th>\n",
       "      <td>0.142</td>\n",
       "    </tr>\n",
       "    <tr>\n",
       "      <th>Commision (in value)</th>\n",
       "      <td>0.098</td>\n",
       "    </tr>\n",
       "    <tr>\n",
       "      <th>Agency</th>\n",
       "      <td>0.041</td>\n",
       "    </tr>\n",
       "    <tr>\n",
       "      <th>Agency Type_Travel Agency</th>\n",
       "      <td>0.038</td>\n",
       "    </tr>\n",
       "    <tr>\n",
       "      <th>Product Name</th>\n",
       "      <td>0.035</td>\n",
       "    </tr>\n",
       "    <tr>\n",
       "      <th>Distribution Channel_Online</th>\n",
       "      <td>0.003</td>\n",
       "    </tr>\n",
       "  </tbody>\n",
       "</table>\n",
       "</div>"
      ],
      "text/plain": [
       "                             importance\n",
       "feature                                \n",
       "Duration                          0.273\n",
       "Age                               0.193\n",
       "Net Sales                         0.178\n",
       "Destination                       0.142\n",
       "Commision (in value)              0.098\n",
       "Agency                            0.041\n",
       "Agency Type_Travel Agency         0.038\n",
       "Product Name                      0.035\n",
       "Distribution Channel_Online       0.003"
      ]
     },
     "execution_count": 215,
     "metadata": {
      "tags": []
     },
     "output_type": "execute_result"
    }
   ],
   "source": [
    "importances = pd.DataFrame({'feature':X_train.columns,'importance':np.round(random_forest.feature_importances_,3)})\n",
    "importances = importances.sort_values('importance',ascending=False).set_index('feature')\n",
    "importances"
   ]
  },
  {
   "cell_type": "code",
   "execution_count": 216,
   "metadata": {
    "colab": {
     "base_uri": "https://localhost:8080/",
     "height": 427
    },
    "colab_type": "code",
    "executionInfo": {
     "elapsed": 1347,
     "status": "ok",
     "timestamp": 1574490960027,
     "user": {
      "displayName": "Nida Jawre",
      "photoUrl": "",
      "userId": "04154925072722594964"
     },
     "user_tz": -330
    },
    "id": "uHeFgJ6E-N3d",
    "outputId": "63fd9739-fae8-4abf-b1c1-5fa668e1610d"
   },
   "outputs": [
    {
     "data": {
      "text/plain": [
       "<matplotlib.axes._subplots.AxesSubplot at 0x7f0d69eee5f8>"
      ]
     },
     "execution_count": 216,
     "metadata": {
      "tags": []
     },
     "output_type": "execute_result"
    },
    {
     "data": {
      "image/png": "[encoded data removed]",
      "text/plain": [
       "<Figure size 432x288 with 1 Axes>"
      ]
     },
     "metadata": {
      "tags": []
     },
     "output_type": "display_data"
    }
   ],
   "source": [
    "importances.plot.bar()"
   ]
  },
  {
   "cell_type": "code",
   "execution_count": 91,
   "metadata": {
    "colab": {
     "base_uri": "https://localhost:8080/",
     "height": 34
    },
    "colab_type": "code",
    "executionInfo": {
     "elapsed": 1024,
     "status": "ok",
     "timestamp": 1574482418359,
     "user": {
      "displayName": "Nida Jawre",
      "photoUrl": "",
      "userId": "04154925072722594964"
     },
     "user_tz": -330
    },
    "id": "wMpb5wpHj3bj",
    "outputId": "74760378-a0d7-427a-cf6a-96db434bf85e"
   },
   "outputs": [
    {
     "data": {
      "text/plain": [
       "15572"
      ]
     },
     "execution_count": 91,
     "metadata": {
      "tags": []
     },
     "output_type": "execute_result"
    }
   ],
   "source": [
    "len(test_pred_rf)"
   ]
  },
  {
   "cell_type": "code",
   "execution_count": 0,
   "metadata": {
    "colab": {},
    "colab_type": "code",
    "id": "QbvYsvWhcTs1"
   },
   "outputs": [],
   "source": [
    "sample_data.drop_duplicates(subset='ID',inplace=True)"
   ]
  },
  {
   "cell_type": "code",
   "execution_count": 0,
   "metadata": {
    "colab": {},
    "colab_type": "code",
    "id": "vEAGdVSI8so1"
   },
   "outputs": [],
   "source": [
    "sample_data['Claim']=test_pred_rf"
   ]
  },
  {
   "cell_type": "code",
   "execution_count": 0,
   "metadata": {
    "colab": {},
    "colab_type": "code",
    "id": "7jyp5i6U81gs"
   },
   "outputs": [],
   "source": [
    "sample_data.to_csv('RF_sub.csv',index=False)"
   ]
  },
  {
   "cell_type": "code",
   "execution_count": 0,
   "metadata": {
    "colab": {},
    "colab_type": "code",
    "id": "46H3nmzO8_li"
   },
   "outputs": [],
   "source": []
  }
 ],
 "metadata": {
  "colab": {
   "name": "drop_dup_ins.ipynb",
   "provenance": []
  },
  "kernelspec": {
   "display_name": "Python 3",
   "language": "python",
   "name": "python3"
  },
  "language_info": {
   "codemirror_mode": {
    "name": "ipython",
    "version": 3
   },
   "file_extension": ".py",
   "mimetype": "text/x-python",
   "name": "python",
   "nbconvert_exporter": "python",
   "pygments_lexer": "ipython3",
   "version": "3.7.3"
  }
 },
 "nbformat": 4,
 "nbformat_minor": 1
}
